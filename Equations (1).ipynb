{
  "nbformat": 4,
  "nbformat_minor": 0,
  "metadata": {
    "colab": {
      "provenance": []
    },
    "kernelspec": {
      "name": "python3",
      "display_name": "Python 3"
    },
    "language_info": {
      "name": "python"
    }
  },
  "cells": [
    {
      "cell_type": "code",
      "execution_count": 4,
      "metadata": {
        "id": "A7avFo7Wc9s6"
      },
      "outputs": [],
      "source": [
        "#new branch file\n",
        "%matplotlib inline\n",
        "%config InlineBackend.figure_format = \"retina\"\n",
        "import matplotlib.pyplot as plt\n",
        "import numpy as np\n",
        "import seaborn as sns\n",
        "sns.set()\n",
        "plt.rcParams['figure.figsize'] = (10.0, 6.0)"
      ]
    },
    {
      "cell_type": "code",
      "source": [
        "import sympy as sym\n",
        "from sympy import symbols, Symbol\n",
        "sym.init_printing()\n"
      ],
      "metadata": {
        "id": "uRX1x8lWdSRG"
      },
      "execution_count": 5,
      "outputs": []
    },
    {
      "cell_type": "code",
      "source": [
        "x= Symbol('x')\n",
        "(sym.pi+x)**2"
      ],
      "metadata": {
        "colab": {
          "base_uri": "https://localhost:8080/",
          "height": 39
        },
        "id": "OSbAHz0Le0qZ",
        "outputId": "867708f4-9e3f-4cde-c325-4387756d220c"
      },
      "execution_count": 6,
      "outputs": [
        {
          "output_type": "execute_result",
          "data": {
            "text/plain": [
              "       2\n",
              "(x + π) "
            ],
            "image/png": "[encoded data removed]",
            "text/latex": "$\\displaystyle \\left(x + \\pi\\right)^{2}$"
          },
          "metadata": {},
          "execution_count": 6
        }
      ]
    },
    {
      "cell_type": "code",
      "source": [
        "alpha1, omega_2= symbols('alpha1 omega_2')\n",
        "alpha1, omega_2"
      ],
      "metadata": {
        "colab": {
          "base_uri": "https://localhost:8080/",
          "height": 39
        },
        "id": "0bwaxX31fEyL",
        "outputId": "643851a0-ded6-4dd6-a9ce-7780b5559c8f"
      },
      "execution_count": 7,
      "outputs": [
        {
          "output_type": "execute_result",
          "data": {
            "text/plain": [
              "(α₁, ω₂)"
            ],
            "image/png": "[encoded data removed]",
            "text/latex": "$\\displaystyle \\left( \\alpha_{1}, \\  \\omega_{2}\\right)$"
          },
          "metadata": {},
          "execution_count": 7
        }
      ]
    },
    {
      "cell_type": "code",
      "source": [
        "\n",
        "mu, sigma= sym.symbols('mu sigma', positive= True)\n",
        "1/sym.sqrt(2*sym.pi*sigma**2)* sym.exp(-(x-mu)**2/(2*sigma**2))"
      ],
      "metadata": {
        "colab": {
          "base_uri": "https://localhost:8080/",
          "height": 67
        },
        "id": "PZMWxQe7hD1Y",
        "outputId": "dcbc0b38-dc2d-4c11-dbdd-dac8d5cf9571"
      },
      "execution_count": 8,
      "outputs": [
        {
          "output_type": "execute_result",
          "data": {
            "text/plain": [
              "             2 \n",
              "    -(-μ + x)  \n",
              "    ───────────\n",
              "           2   \n",
              "        2⋅σ    \n",
              "√2⋅ℯ           \n",
              "───────────────\n",
              "     2⋅√π⋅σ    "
            ],
            "image/png": "[encoded data removed]",
            "text/latex": "$\\displaystyle \\frac{\\sqrt{2} e^{- \\frac{\\left(- \\mu + x\\right)^{2}}{2 \\sigma^{2}}}}{2 \\sqrt{\\pi} \\sigma}$"
          },
          "metadata": {},
          "execution_count": 8
        }
      ]
    },
    {
      "cell_type": "code",
      "source": [
        "x + sym.S(1)/2 , sym.Rational(1,4)"
      ],
      "metadata": {
        "colab": {
          "base_uri": "https://localhost:8080/",
          "height": 58
        },
        "id": "i4YPATk4j4lE",
        "outputId": "aa74362f-91d0-48e8-97dd-67527a71b58a"
      },
      "execution_count": 9,
      "outputs": [
        {
          "output_type": "execute_result",
          "data": {
            "text/plain": [
              "(x + 1/2, 1/4)"
            ],
            "image/png": "[encoded data removed]",
            "text/latex": "$\\displaystyle \\left( x + \\frac{1}{2}, \\  \\frac{1}{4}\\right)$"
          },
          "metadata": {},
          "execution_count": 9
        }
      ]
    },
    {
      "cell_type": "code",
      "source": [
        "y= Symbol('y')\n",
        "x ^ y"
      ],
      "metadata": {
        "colab": {
          "base_uri": "https://localhost:8080/",
          "height": 39
        },
        "id": "JZXdP43awI91",
        "outputId": "9e41bdfe-0c92-4fd2-cd2e-12db78e38625"
      },
      "execution_count": 10,
      "outputs": [
        {
          "output_type": "execute_result",
          "data": {
            "text/plain": [
              "x ⊻ y"
            ],
            "image/png": "[encoded data removed]",
            "text/latex": "$\\displaystyle x \\veebar y$"
          },
          "metadata": {},
          "execution_count": 10
        }
      ]
    },
    {
      "cell_type": "code",
      "source": [
        "\n",
        "x**y"
      ],
      "metadata": {
        "colab": {
          "base_uri": "https://localhost:8080/",
          "height": 39
        },
        "id": "uu2vijXyyyf7",
        "outputId": "65363329-c955-4423-c77c-12c34c912ec4"
      },
      "execution_count": 11,
      "outputs": [
        {
          "output_type": "execute_result",
          "data": {
            "text/plain": [
              " y\n",
              "x "
            ],
            "image/png": "[encoded data removed]",
            "text/latex": "$\\displaystyle x^{y}$"
          },
          "metadata": {},
          "execution_count": 11
        }
      ]
    },
    {
      "cell_type": "code",
      "source": [
        "expr = x + 1\n",
        "expr"
      ],
      "metadata": {
        "colab": {
          "base_uri": "https://localhost:8080/",
          "height": 39
        },
        "id": "kyGIyhfWzWi_",
        "outputId": "2712a69e-eb39-4c1b-f877-d7528b164bfa"
      },
      "execution_count": 12,
      "outputs": [
        {
          "output_type": "execute_result",
          "data": {
            "text/plain": [
              "x + 1"
            ],
            "image/png": "[encoded data removed]",
            "text/latex": "$\\displaystyle x + 1$"
          },
          "metadata": {},
          "execution_count": 12
        }
      ]
    },
    {
      "cell_type": "code",
      "source": [
        "expr.subs(x,3)"
      ],
      "metadata": {
        "colab": {
          "base_uri": "https://localhost:8080/",
          "height": 37
        },
        "id": "Y2E6yM7V0Afd",
        "outputId": "0ea7ee7d-9a02-4fef-b4a4-51fea4a644f4"
      },
      "execution_count": 13,
      "outputs": [
        {
          "output_type": "execute_result",
          "data": {
            "text/plain": [
              "4"
            ],
            "image/png": "[encoded data removed]",
            "text/latex": "$\\displaystyle 4$"
          },
          "metadata": {},
          "execution_count": 13
        }
      ]
    },
    {
      "cell_type": "code",
      "source": [
        "sym.sqrt(2), sym.sqrt(2).evalf(7)"
      ],
      "metadata": {
        "colab": {
          "base_uri": "https://localhost:8080/",
          "height": 47
        },
        "id": "h3NSMXqd0IME",
        "outputId": "54e553ff-4128-493b-a90c-8020cdf6a14e"
      },
      "execution_count": 14,
      "outputs": [
        {
          "output_type": "execute_result",
          "data": {
            "text/plain": [
              "(√2, 1.414214)"
            ],
            "image/png": "[encoded data removed]",
            "text/latex": "$\\displaystyle \\left( \\sqrt{2}, \\  1.414214\\right)$"
          },
          "metadata": {},
          "execution_count": 14
        }
      ]
    },
    {
      "cell_type": "code",
      "source": [
        "from sympy import sin\n",
        "x= Symbol('x')\n",
        "expr = sin(x)/x\n",
        "expr.evalf(subs={x: 3.14})"
      ],
      "metadata": {
        "colab": {
          "base_uri": "https://localhost:8080/",
          "height": 37
        },
        "id": "eOJywr0J19Tp",
        "outputId": "ffbd7ae6-9a72-4276-e83c-f0c6f5701620"
      },
      "execution_count": 15,
      "outputs": [
        {
          "output_type": "execute_result",
          "data": {
            "text/plain": [
              "0.000507214304613640"
            ],
            "image/png": "[encoded data removed]",
            "text/latex": "$\\displaystyle 0.00050721430461364$"
          },
          "metadata": {},
          "execution_count": 15
        }
      ]
    },
    {
      "cell_type": "code",
      "source": [
        "from sympy.utilities.autowrap import ufuncify\n",
        "f = ufuncify([x], expr, backend='f2py') \n",
        "\n",
        "t = np.linspace(0,4*np.pi,100)\n",
        "plt.plot(t, f(t));"
      ],
      "metadata": {
        "colab": {
          "base_uri": "https://localhost:8080/",
          "height": 377
        },
        "id": "0GMpUhFM202u",
        "outputId": "6bbe1e25-be2b-431f-af5b-a38593fe4674"
      },
      "execution_count": 16,
      "outputs": [
        {
          "output_type": "display_data",
          "data": {
            "text/plain": [
              "<Figure size 720x432 with 1 Axes>"
            ],
            "image/png": "[encoded data removed]"
          },
          "metadata": {
            "image/png": {
              "width": 608,
              "height": 360
            }
          }
        }
      ]
    },
    {
      "cell_type": "code",
      "source": [
        "from sympy import Function\n",
        "f = Function('f')"
      ],
      "metadata": {
        "id": "tZV04G2e6PfV"
      },
      "execution_count": 17,
      "outputs": []
    },
    {
      "cell_type": "code",
      "source": [
        "f(x) + 1"
      ],
      "metadata": {
        "colab": {
          "base_uri": "https://localhost:8080/",
          "height": 39
        },
        "id": "erKbZoUl6ROu",
        "outputId": "401aef36-0bce-4da6-b7aa-a4fdf5123c25"
      },
      "execution_count": 18,
      "outputs": [
        {
          "output_type": "execute_result",
          "data": {
            "text/plain": [
              "f(x) + 1"
            ],
            "image/png": "[encoded data removed]",
            "text/latex": "$\\displaystyle f{\\left(x \\right)} + 1$"
          },
          "metadata": {},
          "execution_count": 18
        }
      ]
    },
    {
      "cell_type": "code",
      "source": [
        "from sympy import diff, sin, cos\n",
        "diff(sin(x+1)*cos(y),x), diff(sin(x+1)*cos(y),x,y), diff(f(x),x)"
      ],
      "metadata": {
        "colab": {
          "base_uri": "https://localhost:8080/",
          "height": 58
        },
        "id": "0vfi2HBO6UlN",
        "outputId": "2333bf57-7030-49bc-f1d2-fa7d6b0771e3"
      },
      "execution_count": 19,
      "outputs": [
        {
          "output_type": "execute_result",
          "data": {
            "text/plain": [
              "⎛                                       d       ⎞\n",
              "⎜cos(y)⋅cos(x + 1), -sin(y)⋅cos(x + 1), ──(f(x))⎟\n",
              "⎝                                       dx      ⎠"
            ],
            "image/png": "[encoded data removed]",
            "text/latex": "$\\displaystyle \\left( \\cos{\\left(y \\right)} \\cos{\\left(x + 1 \\right)}, \\  - \\sin{\\left(y \\right)} \\cos{\\left(x + 1 \\right)}, \\  \\frac{d}{d x} f{\\left(x \\right)}\\right)$"
          },
          "metadata": {},
          "execution_count": 19
        }
      ]
    },
    {
      "cell_type": "code",
      "source": [
        "c, t= sym.symbols('t c')\n",
        "u= sym.Function('u')\n",
        "sym.Eq(diff(u(t,x),t,t), c**2*diff(u(t,x),x,2))"
      ],
      "metadata": {
        "colab": {
          "base_uri": "https://localhost:8080/",
          "height": 54
        },
        "id": "d6bCot8f64F6",
        "outputId": "d7a5efb3-04bc-4915-96fd-1862fa7aca92"
      },
      "execution_count": 20,
      "outputs": [
        {
          "output_type": "execute_result",
          "data": {
            "text/plain": [
              "  2                 2         \n",
              " ∂              2  ∂          \n",
              "───(u(c, x)) = t ⋅───(u(c, x))\n",
              "  2                 2         \n",
              "∂c                ∂x          "
            ],
            "image/png": "[encoded data removed]",
            "text/latex": "$\\displaystyle \\frac{\\partial^{2}}{\\partial c^{2}} u{\\left(c,x \\right)} = t^{2} \\frac{\\partial^{2}}{\\partial x^{2}} u{\\left(c,x \\right)}$"
          },
          "metadata": {},
          "execution_count": 20
        }
      ]
    },
    {
      "cell_type": "code",
      "source": [
        "from sympy import Matrix\n",
        "Matrix([[1,2], [3,4]])*Matrix([x,y])"
      ],
      "metadata": {
        "colab": {
          "base_uri": "https://localhost:8080/",
          "height": 58
        },
        "id": "JSANFg0d7oDg",
        "outputId": "89c499a0-f3ea-431b-b3ed-5a86cf016f2e"
      },
      "execution_count": 21,
      "outputs": [
        {
          "output_type": "execute_result",
          "data": {
            "text/plain": [
              "⎡ x + 2⋅y ⎤\n",
              "⎢         ⎥\n",
              "⎣3⋅x + 4⋅y⎦"
            ],
            "text/latex": "$\\displaystyle \\left[\\begin{matrix}x + 2 y\\\\3 x + 4 y\\end{matrix}\\right]$"
          },
          "metadata": {},
          "execution_count": 21
        }
      ]
    },
    {
      "cell_type": "code",
      "source": [
        "x, y, z = sym.symbols('x y z')\n",
        "Matrix([sin(x) + y, cos(y) + x, z]).jacobian([x, y, z])"
      ],
      "metadata": {
        "colab": {
          "base_uri": "https://localhost:8080/",
          "height": 78
        },
        "id": "6us6AWRP8bFI",
        "outputId": "3de08e80-6df8-4507-f369-e8608a904f85"
      },
      "execution_count": 22,
      "outputs": [
        {
          "output_type": "execute_result",
          "data": {
            "text/plain": [
              "⎡cos(x)     1     0⎤\n",
              "⎢                  ⎥\n",
              "⎢  1     -sin(y)  0⎥\n",
              "⎢                  ⎥\n",
              "⎣  0        0     1⎦"
            ],
            "text/latex": "$\\displaystyle \\left[\\begin{matrix}\\cos{\\left(x \\right)} & 1 & 0\\\\1 & - \\sin{\\left(y \\right)} & 0\\\\0 & 0 & 1\\end{matrix}\\right]$"
          },
          "metadata": {},
          "execution_count": 22
        }
      ]
    },
    {
      "cell_type": "code",
      "source": [
        "from sympy import MatrixSymbol, Transpose\n",
        "\n",
        "n, m = sym.symbols('n m', integer=True)\n",
        "M = MatrixSymbol(\"M\", n, m)\n",
        "b = MatrixSymbol(\"b\", m, 1)\n",
        "Transpose(M*b)"
      ],
      "metadata": {
        "colab": {
          "base_uri": "https://localhost:8080/",
          "height": 40
        },
        "id": "qsyxx_5983b-",
        "outputId": "b50c621c-d6d2-414a-bd94-173f4b4db2b1"
      },
      "execution_count": 23,
      "outputs": [
        {
          "output_type": "execute_result",
          "data": {
            "text/plain": [
              "     T\n",
              "(M⋅b) "
            ],
            "image/png": "[encoded data removed]",
            "text/latex": "$\\displaystyle \\left(M b\\right)^{T}$"
          },
          "metadata": {},
          "execution_count": 23
        }
      ]
    },
    {
      "cell_type": "code",
      "source": [
        "Transpose(M*b).doit()"
      ],
      "metadata": {
        "colab": {
          "base_uri": "https://localhost:8080/",
          "height": 39
        },
        "id": "Ehr0VXS19asV",
        "outputId": "63854234-5753-484b-bd5b-44088e1a085e"
      },
      "execution_count": 24,
      "outputs": [
        {
          "output_type": "execute_result",
          "data": {
            "text/plain": [
              " T  T\n",
              "b ⋅M "
            ],
            "image/png": "[encoded data removed]",
            "text/latex": "$\\displaystyle b^{T} M^{T}$"
          },
          "metadata": {},
          "execution_count": 24
        }
      ]
    },
    {
      "cell_type": "code",
      "source": [
        "from sympy import Eq, solve\n",
        "solve(Eq(x**2,4),x)"
      ],
      "metadata": {
        "colab": {
          "base_uri": "https://localhost:8080/",
          "height": 37
        },
        "id": "iEnPFfd09de4",
        "outputId": "c2012d08-ffcb-44e6-a656-b6df2021b3d5"
      },
      "execution_count": 25,
      "outputs": [
        {
          "output_type": "execute_result",
          "data": {
            "text/plain": [
              "[-2, 2]"
            ],
            "image/png": "[encoded data removed]",
            "text/latex": "$\\displaystyle \\left[ -2, \\  2\\right]$"
          },
          "metadata": {},
          "execution_count": 25
        }
      ]
    },
    {
      "cell_type": "code",
      "source": [
        "solve(Eq(x**2+3*x-3),x)"
      ],
      "metadata": {
        "colab": {
          "base_uri": "https://localhost:8080/",
          "height": 189
        },
        "id": "nGZpM43g-DUR",
        "outputId": "2118f311-0540-4a7a-c8c8-18f6cf616c4a"
      },
      "execution_count": 26,
      "outputs": [
        {
          "output_type": "stream",
          "name": "stderr",
          "text": [
            "/usr/local/lib/python3.7/dist-packages/sympy/core/relational.py:496: SymPyDeprecationWarning: \n",
            "\n",
            "Eq(expr) with rhs default to 0 has been deprecated since SymPy 1.5.\n",
            "Use Eq(expr, 0) instead. See\n",
            "https://github.com/sympy/sympy/issues/16587 for more info.\n",
            "\n",
            "  deprecated_since_version=\"1.5\"\n"
          ]
        },
        {
          "output_type": "execute_result",
          "data": {
            "text/plain": [
              "⎡  3   √21    √21   3⎤\n",
              "⎢- ─ + ───, - ─── - ─⎥\n",
              "⎣  2    2      2    2⎦"
            ],
            "image/png": "[encoded data removed]",
            "text/latex": "$\\displaystyle \\left[ - \\frac{3}{2} + \\frac{\\sqrt{21}}{2}, \\  - \\frac{\\sqrt{21}}{2} - \\frac{3}{2}\\right]$"
          },
          "metadata": {},
          "execution_count": 26
        }
      ]
    },
    {
      "cell_type": "code",
      "source": [
        "eq1 = x**2 + y**2 - 4  # circle of radius 2\n",
        "eq2 = 2*x + y - 1  # straight line: y(x) = -2*x + 1\n",
        "solve([eq1, eq2], [x, y])"
      ],
      "metadata": {
        "colab": {
          "base_uri": "https://localhost:8080/",
          "height": 68
        },
        "id": "2VfMHLJQ-NH_",
        "outputId": "29284d27-7ca7-49d4-9d7e-cc27c6929c4a"
      },
      "execution_count": 27,
      "outputs": [
        {
          "output_type": "execute_result",
          "data": {
            "text/plain": [
              "⎡⎛2   √19  1   2⋅√19⎞  ⎛2   √19  1   2⋅√19⎞⎤\n",
              "⎢⎜─ - ───, ─ + ─────⎟, ⎜─ + ───, ─ - ─────⎟⎥\n",
              "⎣⎝5    5   5     5  ⎠  ⎝5    5   5     5  ⎠⎦"
            ],
            "image/png": "[encoded data removed]",
            "text/latex": "$\\displaystyle \\left[ \\left( \\frac{2}{5} - \\frac{\\sqrt{19}}{5}, \\  \\frac{1}{5} + \\frac{2 \\sqrt{19}}{5}\\right), \\  \\left( \\frac{2}{5} + \\frac{\\sqrt{19}}{5}, \\  \\frac{1}{5} - \\frac{2 \\sqrt{19}}{5}\\right)\\right]$"
          },
          "metadata": {},
          "execution_count": 27
        }
      ]
    }
  ]
}